{
  "nbformat": 4,
  "nbformat_minor": 0,
  "metadata": {
    "colab": {
      "provenance": [],
      "authorship_tag": "ABX9TyO0qnRmKnbSXQ7QC88iFvAS"
    },
    "kernelspec": {
      "name": "python3",
      "display_name": "Python 3"
    },
    "language_info": {
      "name": "python"
    }
  },
  "cells": [
    {
      "cell_type": "code",
      "source": [
        "# Importing necessary libraries\n",
        "import numpy as np\n",
        "import pandas as pd\n",
        "from sklearn.model_selection import train_test_split\n",
        "from sklearn.ensemble import RandomForestClassifier\n",
        "from sklearn.metrics import confusion_matrix, classification_report\n",
        "\n",
        "# Generating a synthetic multiclass dataset\n",
        "from sklearn.datasets import make_classification\n",
        "X, y = make_classification(n_samples=1000, n_features=20, n_classes=4, n_informative=10, random_state=42)\n",
        "\n",
        "# Splitting the dataset into training and testing sets\n",
        "X_train, X_test, y_train, y_test = train_test_split(X, y, test_size=0.3, random_state=42)\n",
        "\n",
        "# Initializing and training the classifier\n",
        "clf = RandomForestClassifier(random_state=42)\n",
        "clf.fit(X_train, y_train)\n",
        "\n",
        "# Making predictions\n",
        "y_pred = clf.predict(X_test)\n",
        "\n",
        "# Generating the confusion matrix\n",
        "conf_matrix = confusion_matrix(y_test, y_pred)\n",
        "\n",
        "# Displaying the confusion matrix\n",
        "print(f\"Confusion Matrix:\\n{conf_matrix}\")"
      ],
      "metadata": {
        "colab": {
          "base_uri": "https://localhost:8080/"
        },
        "id": "_4h32FVvYoxb",
        "outputId": "aea8215b-a515-4ad4-ca24-e71ddb0e3f99"
      },
      "execution_count": 1,
      "outputs": [
        {
          "output_type": "stream",
          "name": "stdout",
          "text": [
            "Confusion Matrix:\n",
            "[[54  6  8  9]\n",
            " [ 5 59  9  2]\n",
            " [ 8  3 62  5]\n",
            " [ 6  1  4 59]]\n"
          ]
        }
      ]
    },
    {
      "cell_type": "code",
      "execution_count": 2,
      "metadata": {
        "colab": {
          "base_uri": "https://localhost:8080/"
        },
        "id": "Hq6b1svUYfK9",
        "outputId": "6322ed4d-24fe-4d4f-c2d4-ae8749d30e8d"
      },
      "outputs": [
        {
          "output_type": "stream",
          "name": "stdout",
          "text": [
            "Class 0: Sensitivity = 0.70, Specificity = 0.91\n",
            "Class 1: Sensitivity = 0.79, Specificity = 0.96\n",
            "Class 2: Sensitivity = 0.79, Specificity = 0.91\n",
            "Class 3: Sensitivity = 0.84, Specificity = 0.93\n",
            "\n",
            "Classification Report:\n",
            "\n",
            "              precision    recall  f1-score   support\n",
            "\n",
            "           0       0.74      0.70      0.72        77\n",
            "           1       0.86      0.79      0.82        75\n",
            "           2       0.75      0.79      0.77        78\n",
            "           3       0.79      0.84      0.81        70\n",
            "\n",
            "    accuracy                           0.78       300\n",
            "   macro avg       0.78      0.78      0.78       300\n",
            "weighted avg       0.78      0.78      0.78       300\n",
            "\n"
          ]
        }
      ],
      "source": [
        "\n",
        "\n",
        "# Calculating Sensitivity and Specificity for each class\n",
        "n_classes = conf_matrix.shape[0]\n",
        "sensitivities = []\n",
        "specificities = []\n",
        "\n",
        "for i in range(n_classes):\n",
        "    # True Positives for class i\n",
        "    tp = conf_matrix[i, i]\n",
        "\n",
        "    # False Negatives for class i\n",
        "    fn = np.sum(conf_matrix[i, :]) - tp\n",
        "\n",
        "    # False Positives for class i\n",
        "    fp = np.sum(conf_matrix[:, i]) - tp\n",
        "\n",
        "    # True Negatives for class i\n",
        "    tn = np.sum(conf_matrix) - (tp + fn + fp)\n",
        "\n",
        "    # Sensitivity for class i\n",
        "    sensitivity = tp / (tp + fn)\n",
        "    sensitivities.append(sensitivity)\n",
        "\n",
        "    # Specificity for class i\n",
        "    specificity = tn / (tn + fp)\n",
        "    specificities.append(specificity)\n",
        "\n",
        "    print(f\"Class {i}: Sensitivity = {sensitivity:.2f}, Specificity = {specificity:.2f}\")\n",
        "\n",
        "# Displaying the classification report for more detailed metrics\n",
        "print(\"\\nClassification Report:\\n\")\n",
        "print(classification_report(y_test, y_pred))\n"
      ]
    }
  ]
}